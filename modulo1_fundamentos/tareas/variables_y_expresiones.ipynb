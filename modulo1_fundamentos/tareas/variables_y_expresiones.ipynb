{
  "nbformat": 4,
  "nbformat_minor": 0,
  "metadata": {
    "colab": {
      "provenance": [],
      "include_colab_link": true
    },
    "kernelspec": {
      "name": "python3",
      "display_name": "Python 3"
    },
    "language_info": {
      "name": "python"
    }
  },
  "cells": [
    {
      "cell_type": "markdown",
      "metadata": {
        "id": "view-in-github",
        "colab_type": "text"
      },
      "source": [
        "<a href=\"https://colab.research.google.com/github/FernandoIGD12/UTEC_programming101/blob/main/modulo1_fundamentos/tareas/variables_y_expresiones.ipynb\" target=\"_parent\"><img src=\"https://colab.research.google.com/assets/colab-badge.svg\" alt=\"Open In Colab\"/></a>"
      ]
    },
    {
      "cell_type": "markdown",
      "source": [
        "<img src=\"https://posgrado.utec.edu.pe/sites/default/files/2023-08/Testimonial-home-2.jpg\" alt=\"HTML5 Icon\" width=\"900\" height=\"250\" >\n"
      ],
      "metadata": {
        "id": "cqadFmlrgAXp"
      }
    },
    {
      "cell_type": "markdown",
      "source": [
        "# **Ejercicios - Variables y Expresiones**"
      ],
      "metadata": {
        "id": "tW1-ULBmb0Cm"
      }
    },
    {
      "cell_type": "markdown",
      "source": [
        "**Ejercicio 1: Calculadora de ahorro semanal**\n",
        "\n",
        "Pide al usuario cuánto dinero ahorra cada día de lunes a domingo. Al final, muestra cuánto ahorró en total esa semana y cuánto tendría en un mes si repite el mismo patrón cada semana.\n",
        "\n",
        "- Pista: Usar 7 variables (ahorro_lunes, ahorro_martes, …), input(), float(), +, *."
      ],
      "metadata": {
        "id": "9igzfvIKqNGr"
      }
    },
    {
      "cell_type": "code",
      "source": [
        "## INICIO DE CÓDIGO\n",
        "# Weekly savings calculator\n",
        "# Program asks for a valid input (positive real number) corresponding to\n",
        "# the savings of each invidivual day from monday to sunday. Once this is finished,\n",
        "# it returns the total weekly savings and projects it to a monthly forecast.\n",
        "weekly_savings = []\n",
        "days = ['monday', 'tuesday', 'wednesday', 'thursday', 'friday', 'saturday',\n",
        "        'sunday']\n",
        "\n",
        "for day in days:\n",
        "  while(1):\n",
        "    try:\n",
        "      num = float(input(f'Enter savings on {day}: '))\n",
        "      if num >= 0:\n",
        "        weekly_savings.append(num)\n",
        "        break\n",
        "      else:\n",
        "        raise ValueError\n",
        "    except ValueError:\n",
        "      print('Invalid number.')\n",
        "\n",
        "print('Total weekly savings: ', sum(weekly_savings))\n",
        "print('Projected monthly savings:', sum(weekly_savings)*4)\n",
        "## FIN DE CÓDIGO"
      ],
      "metadata": {
        "id": "BX-O1-4wqWF9",
        "colab": {
          "base_uri": "https://localhost:8080/"
        },
        "outputId": "fe21bfaa-bc85-4708-8844-a7e65662f5a7"
      },
      "execution_count": 79,
      "outputs": [
        {
          "output_type": "stream",
          "name": "stdout",
          "text": [
            "Enter savings on monday: 0\n",
            "Enter savings on tuesday: -1\n",
            "Invalid number.\n",
            "Enter savings on tuesday: 20\n",
            "Enter savings on wednesday: 100\n",
            "Enter savings on thursday: 500\n",
            "Enter savings on friday: 20\n",
            "Enter savings on saturday: 10\n",
            "Enter savings on sunday: 4\n",
            "Total weekly savings:  654.0\n",
            "Projected monthly savings: 2616.0\n"
          ]
        }
      ]
    },
    {
      "cell_type": "markdown",
      "source": [
        "**Ejercicio 2: Conversor de segundos**\n",
        "\n",
        "Solicita una cantidad total de segundos y muestra cuántos minutos y segundos representa.\n",
        "\n",
        "Ejemplo: 130 segundos → 2 minutos y 10 segundos\n",
        "* Pista: Usar // y %\n"
      ],
      "metadata": {
        "id": "oLaw6UggqV3E"
      }
    },
    {
      "cell_type": "code",
      "source": [
        "## INICIO DE CÓDIGO\n",
        "# Program takes a valid 'seconds' number (non-negative integer) as input and\n",
        "# calculates how many minutes and and seconds (that don't ammount to a minute)\n",
        "# are there.\n",
        "while(1):\n",
        "  try:\n",
        "    num = int(input('Ingrese una cantidad de segundos: '))\n",
        "    if num>=0:\n",
        "      minutes = num//60\n",
        "      sec = num%60\n",
        "      print(f'{num} seconds -> {minutes} minutes and {sec} seconds')\n",
        "      break\n",
        "    else:\n",
        "      raise ValueError\n",
        "  except ValueError:\n",
        "    print('Numero inválido.')\n",
        "\n",
        "## FIN DE CÓDIGO"
      ],
      "metadata": {
        "id": "bAuxBROrqaWb",
        "colab": {
          "base_uri": "https://localhost:8080/"
        },
        "outputId": "ff237bcf-d5e6-4337-a63e-da018e1a2907"
      },
      "execution_count": 83,
      "outputs": [
        {
          "output_type": "stream",
          "name": "stdout",
          "text": [
            "Ingrese una cantidad de segundos: 130\n",
            "130 seconds -> 2 minutes and 10 seconds\n"
          ]
        }
      ]
    },
    {
      "cell_type": "markdown",
      "source": [
        "**Ejercicio 3: Puntuación de juego**\n",
        "\n",
        "Un videojuego otorga:\n",
        "\n",
        "* 10 puntos por cada estrella recolectada,\n",
        "* 50 puntos por cada gema recolectada, y\n",
        "* 1 punto por cada segundo que el jugador se mantuvo vivo.\n",
        "\n",
        "Pide al usuario las tres cantidades y muestra su puntaje total.\n",
        "\n",
        "* Pista: total = estrellas*10 + gemas*50 + tiempo"
      ],
      "metadata": {
        "id": "dK4EIGoKrW2B"
      }
    },
    {
      "cell_type": "code",
      "source": [
        "## INICIO DE CÓDIGO\n",
        "# Program asks for inputs of stars, gems and seconds alive. User must provide\n",
        "# valid input to move to the next item. Finally, it calculates the total points\n",
        "# the player scored.\n",
        "def validate_entry(item_name):\n",
        "  while(1):\n",
        "    try:\n",
        "      item_number = int(input(f'Enter amount of {item_name}: '))\n",
        "      if item_number>=0:\n",
        "        return item_number\n",
        "        break\n",
        "      else:\n",
        "        raise ValueError\n",
        "    except ValueError:\n",
        "      print('Invalid entry.')\n",
        "\n",
        "n_star = validate_entry('star')\n",
        "n_gem = validate_entry('gems')\n",
        "n_seconds = validate_entry('seconds')\n",
        "\n",
        "tot = n_star*10 + n_gem*50 + n_seconds\n",
        "print('Total score: ', tot)\n",
        "## FIN DE CÓDIGO"
      ],
      "metadata": {
        "id": "jkBQHQF1rlUY",
        "colab": {
          "base_uri": "https://localhost:8080/"
        },
        "outputId": "5f2dc95f-88e9-4d64-8f8c-171b4dbcf21d"
      },
      "execution_count": 84,
      "outputs": [
        {
          "output_type": "stream",
          "name": "stdout",
          "text": [
            "Enter amount of star: -1\n",
            "Invalid entry.\n",
            "Enter amount of star: 40\n",
            "Enter amount of gems: 3\n",
            "Enter amount of seconds: 155\n",
            "Total score:  705\n"
          ]
        }
      ]
    },
    {
      "cell_type": "markdown",
      "source": [
        "**Ejercicio 4: Conversor de monedas con tasa personalizada**\n",
        "\n",
        "Solicita al usuario:\n",
        "\n",
        "* El monto en soles\n",
        "* La tasa de cambio a dólares\n",
        "\n",
        "Muestra el equivalente en dólares, redondeado a 2 decimales.\n",
        "\n",
        "* Pista: Usar float(), *, round(valor, 2)"
      ],
      "metadata": {
        "id": "wW9Edl_8rlt1"
      }
    },
    {
      "cell_type": "code",
      "source": [
        "## INICIO DE CÓDIGO\n",
        "# Program asks for valid inputs of money and exchange rate. Request is made unitl\n",
        "# valid input is provided. Then, it calculates the exchange with 2 decimal points\n",
        "\n",
        "while (1):\n",
        "  try:\n",
        "    pen = float(input('Enter money ammount (in PEN): '))\n",
        "    ex_rate = float(input('Enter dollar exchange rate: '))\n",
        "    if (pen >=0 and ex_rate>0):\n",
        "      #print(f'USD equivalent: {round(pen*ex_rate,2)}')\n",
        "      print(f'USD equivalent: {pen*ex_rate:.2f}')\n",
        "      break\n",
        "    else:\n",
        "      raise ValueError\n",
        "  except ValueError:\n",
        "    print('Invalid values. Enter values again.')\n",
        "\n",
        "## FIN DE CÓDIGO"
      ],
      "metadata": {
        "id": "fTCsCohHrmQW",
        "colab": {
          "base_uri": "https://localhost:8080/"
        },
        "outputId": "00c72afd-eebd-4c7e-bc5b-a2de99a66819"
      },
      "execution_count": 62,
      "outputs": [
        {
          "output_type": "stream",
          "name": "stdout",
          "text": [
            "Enter money ammount (in PEN): -5\n",
            "Enter dollar exchange rate: 0\n",
            "Invalid values. Enter values again.\n",
            "Enter money ammount (in PEN): 50\n",
            "Enter dollar exchange rate: 3.71\n",
            "USD equivalent: 185.50\n"
          ]
        }
      ]
    },
    {
      "cell_type": "markdown",
      "source": [
        "**Ejercicio 5: Costo compartido de viaje**\n",
        "\n",
        "Tres amigos hacen un viaje y pagan distintos montos:\n",
        "\n",
        "* Ana pagó gasolina,\n",
        "* Luis pagó peajes,\n",
        "* Carla pagó comida.\n",
        "\n",
        "Pide los tres montos, calcula el total y cuánto debería aportar cada uno para que paguen igual.\n",
        "\n",
        "* Pista: Calcular el total y luego dividirlo entre 3"
      ],
      "metadata": {
        "id": "JYUyJAidrmnT"
      }
    },
    {
      "cell_type": "code",
      "source": [
        "## INICIO DE CÓDIGO\n",
        "# Program calculates total expenses and equally divides it among the participants\n",
        "# It validates entries for non-negative real numbers.\n",
        "while (1):\n",
        "  try:\n",
        "    ana = float(input('Enter amount Ana spent on gas: '))\n",
        "    luis = float(input('Enter amount Luis spent on toll: '))\n",
        "    carla = float(input('Enter amount Carla spent on food: '))\n",
        "    if (ana>=0 and luis>=0 and carla>=0):\n",
        "      print('Total spent amount: ', luis+carla+ana)\n",
        "      print(f'For equal contributions, each should have payed: {(luis+carla+ana)/3:.2f}')\n",
        "      break\n",
        "    else:\n",
        "      raise ValueError\n",
        "  except ValueError:\n",
        "    print('Invalid values. Enter values again.')\n",
        "\n",
        "## FIN DE CÓDIGO"
      ],
      "metadata": {
        "id": "SGjH-m_mrom9",
        "colab": {
          "base_uri": "https://localhost:8080/"
        },
        "outputId": "9ff4983e-0f18-4eed-8ec1-799f6e813cc3"
      },
      "execution_count": 58,
      "outputs": [
        {
          "output_type": "stream",
          "name": "stdout",
          "text": [
            "Enter amount Ana spent on gas: 65\n",
            "Enter amount Luis spent on toll: 21\n",
            "Enter amount Carla spent on food: 122\n",
            "Total spent amount:  208.0\n",
            "For equal contributions, each should have payed: 69.33\n"
          ]
        }
      ]
    },
    {
      "cell_type": "code",
      "source": [
        "!pip install pandas==2.2.2\n",
        "import pandas as pd"
      ],
      "metadata": {
        "colab": {
          "base_uri": "https://localhost:8080/"
        },
        "id": "5Lf1LIhMMQH1",
        "outputId": "110ef30c-1d68-4ac5-ec80-e83a6915a3dd"
      },
      "execution_count": 38,
      "outputs": [
        {
          "output_type": "stream",
          "name": "stdout",
          "text": [
            "Requirement already satisfied: pandas==2.2.2 in /usr/local/lib/python3.11/dist-packages (2.2.2)\n",
            "Requirement already satisfied: numpy>=1.23.2 in /usr/local/lib/python3.11/dist-packages (from pandas==2.2.2) (2.0.2)\n",
            "Requirement already satisfied: python-dateutil>=2.8.2 in /usr/local/lib/python3.11/dist-packages (from pandas==2.2.2) (2.8.2)\n",
            "Requirement already satisfied: pytz>=2020.1 in /usr/local/lib/python3.11/dist-packages (from pandas==2.2.2) (2025.2)\n",
            "Requirement already satisfied: tzdata>=2022.7 in /usr/local/lib/python3.11/dist-packages (from pandas==2.2.2) (2025.2)\n",
            "Requirement already satisfied: six>=1.5 in /usr/local/lib/python3.11/dist-packages (from python-dateutil>=2.8.2->pandas==2.2.2) (1.17.0)\n"
          ]
        }
      ]
    },
    {
      "cell_type": "markdown",
      "source": [
        "**Ejercicio 6: Tiempo total de estudio**\n",
        "\n",
        "Solicita al usuario cuántas horas estudió en 4 materias distintas.\n",
        "\n",
        "Muestra el total de horas de estudio en la semana y el promedio diario (considerando 7 días).\n"
      ],
      "metadata": {
        "id": "skhBiCaCro5l"
      }
    },
    {
      "cell_type": "code",
      "source": [
        "## INICIO DE CÓDIGO333\n",
        "# Program stores study hours for each of the 4 courses for each day of the week\n",
        "# and stores values in a dataframe. Finally, it calculates total study time for\n",
        "# the week for each course and average daily study time for each course\n",
        "labels = ['course_1', 'course_2', 'course_3', 'course_4']\n",
        "values = [[], [], [], []]\n",
        "days = range(1,8)\n",
        "hours = dict(zip(labels, values))\n",
        "df_hours = pd.DataFrame(hours)\n",
        "for day in days:\n",
        "  for label in labels:\n",
        "    while (1):\n",
        "      try:\n",
        "        value = float(input(f'Enter number of hours studied for {label} in day {day}: '))\n",
        "        if 0<=value<=24:\n",
        "          df_hours.loc[day-1, label] = value\n",
        "          break\n",
        "        else:\n",
        "          raise ValueError\n",
        "      except ValueError:\n",
        "        print('Enter a valid number.')\n",
        "\n",
        "df_hours.index = days\n",
        "print('Total number of hours studied in a week is: \\n'\n",
        "      , df_hours.sum(axis = 0).to_frame('Weekly total'))\n",
        "\n",
        "print('Average study time per day is: \\n'\n",
        "      , df_hours.mean(axis = 0).to_frame('Average daily study time3'))\n",
        "\n",
        "## FIN DE CÓDIGO"
      ],
      "metadata": {
        "id": "HnFuV1RPrqXQ",
        "colab": {
          "base_uri": "https://localhost:8080/"
        },
        "outputId": "49c92619-5a66-4c93-abf9-11afce5fc8f4"
      },
      "execution_count": 51,
      "outputs": [
        {
          "output_type": "stream",
          "name": "stdout",
          "text": [
            "Enter number of hours studied for course_1 in day 1: 65\n",
            "Enter a valid number.\n",
            "Enter number of hours studied for course_1 in day 1: 4\n",
            "Enter number of hours studied for course_2 in day 1: 3\n",
            "Enter number of hours studied for course_3 in day 1: 2\n",
            "Enter number of hours studied for course_4 in day 1: 1\n",
            "Enter number of hours studied for course_1 in day 2: 1\n",
            "Enter number of hours studied for course_2 in day 2: 2\n",
            "Enter number of hours studied for course_3 in day 2: 3\n",
            "Enter number of hours studied for course_4 in day 2: 4\n",
            "Enter number of hours studied for course_1 in day 3: 5\n",
            "Enter number of hours studied for course_2 in day 3: 6\n",
            "Enter number of hours studied for course_3 in day 3: 7\n",
            "Enter number of hours studied for course_4 in day 3: 8\n",
            "Enter number of hours studied for course_1 in day 4: 8\n",
            "Enter number of hours studied for course_2 in day 4: 7\n",
            "Enter number of hours studied for course_3 in day 4: 6\n",
            "Enter number of hours studied for course_4 in day 4: 5\n",
            "Enter number of hours studied for course_1 in day 5: 2\n",
            "Enter number of hours studied for course_2 in day 5: 3\n",
            "Enter number of hours studied for course_3 in day 5: 4\n",
            "Enter number of hours studied for course_4 in day 5: 5\n",
            "Enter number of hours studied for course_1 in day 6: 5\n",
            "Enter number of hours studied for course_2 in day 6: 4\n",
            "Enter number of hours studied for course_3 in day 6: 3\n",
            "Enter number of hours studied for course_4 in day 6: 2\n",
            "Enter number of hours studied for course_1 in day 7: 3\n",
            "Enter number of hours studied for course_2 in day 7: 4\n",
            "Enter number of hours studied for course_3 in day 7: 5\n",
            "Enter number of hours studied for course_4 in day 7: 6\n",
            "Total number of hours studied in a week is: \n",
            "           Weekly total\n",
            "course_1          28.0\n",
            "course_2          29.0\n",
            "course_3          30.0\n",
            "course_4          31.0\n",
            "Average study time per day is: \n",
            "           Average daily study time3\n",
            "course_1                   4.000000\n",
            "course_2                   4.142857\n",
            "course_3                   4.285714\n",
            "course_4                   4.428571\n"
          ]
        }
      ]
    },
    {
      "cell_type": "markdown",
      "source": [
        "**Ejercicio 7: Nombre codificado (nivel string)**\n",
        "\n",
        "Pide al usuario su nombre completo y muestra:\n",
        "\n",
        "* La cantidad de caracteres (con len())\n",
        "* Su nombre todo en mayúsculas (.upper())\n",
        "* Su nombre todo en minúsculas (.lower())\n"
      ],
      "metadata": {
        "id": "rNjtOXKWrqs5"
      }
    },
    {
      "cell_type": "code",
      "source": [
        "## INICIO DE CÓDIGO\n",
        "# Program takes a name as input. It validates the name to contain only letters,\n",
        "# spaces, \" -' \" characters and to possess at least one character. Then, it cal-\n",
        "# culates total string length and displays the name in upper and lowercases.\n",
        "while (1):\n",
        "  name = input('Enter full name:' ).strip()\n",
        "  if all(char.isalpha() or char.isspace() or char in \"'-\" for char in name) and len(name)>0:\n",
        "    print(f'Character count (including spaces): {len(name)}')\n",
        "    print(f'Name in uppercase: {name.upper()}')\n",
        "    print(f'Name in lowercase: {name.lower()}')\n",
        "    break\n",
        "  else:\n",
        "    print('Invalid entry. Enter name again.')\n",
        "## FIN DE CÓDIGO"
      ],
      "metadata": {
        "id": "GnGm74GXrsL0",
        "colab": {
          "base_uri": "https://localhost:8080/"
        },
        "outputId": "5986b691-e56c-4707-b335-96e869991bef"
      },
      "execution_count": 66,
      "outputs": [
        {
          "output_type": "stream",
          "name": "stdout",
          "text": [
            "Enter full name:Fer%nando Gu12tierrez\n",
            "Invalid entry. Enter name again.\n",
            "Enter full name:Fernando Ivan Gutierrez Delgado\n",
            "Character count (including spaces): 31\n",
            "Name in uppercase: FERNANDO IVAN GUTIERREZ DELGADO\n",
            "Name in lowercase: fernando ivan gutierrez delgado\n"
          ]
        }
      ]
    },
    {
      "cell_type": "markdown",
      "source": [
        "**Ejercicio 8: Frase repetida**\n",
        "\n",
        "Pide una frase y un número n, y muestra la frase repetida n veces, cada una en una línea.\n",
        "\n",
        "* Pista: print(frase * n)  # y/o con '\\n'"
      ],
      "metadata": {
        "id": "lrhPyjmWrse2"
      }
    },
    {
      "cell_type": "code",
      "source": [
        "## INICIO DE CÓDIGO\n",
        "# Program takes a valid frase (contains letters, spaces or special characters)\n",
        "# and number (positive integer) and displays the entered frase 'n' number of ti-\n",
        "# mes on a separate line.\n",
        "while(1):\n",
        "  frase = input('Enter a frese: ').strip()\n",
        "  if all(char.isalpha() or char.isspace() or char in \"'-\" for char in frase) and len(frase)>0:\n",
        "    try:\n",
        "      n = int(input('Enter a positive integer: '))\n",
        "      if n>0:\n",
        "        print((frase+'\\n')*n)\n",
        "        break\n",
        "    except ValueError:\n",
        "      print('Invalid entry.')\n",
        "  else:\n",
        "    print('Invalid frase.')\n",
        "\n",
        "## FIN DE CÓDIGO"
      ],
      "metadata": {
        "id": "Vzef3t_Lru0p",
        "colab": {
          "base_uri": "https://localhost:8080/"
        },
        "outputId": "f5ef2a88-583b-441d-82b6-1fc4ee1afefa"
      },
      "execution_count": 70,
      "outputs": [
        {
          "output_type": "stream",
          "name": "stdout",
          "text": [
            "Enter a frese: 123asd cuantas veces\n",
            "Invalid frase.\n",
            "Enter a frese: amor prohibido\n",
            "Enter a positive integer: 3\n",
            "amor prohibido\n",
            "amor prohibido\n",
            "amor prohibido\n",
            "\n"
          ]
        }
      ]
    },
    {
      "cell_type": "markdown",
      "source": [
        "**Ejercicio 9: División de cuentas**\n",
        "\n",
        "Un grupo de amigos pide una cuenta por S/ 250.\n",
        "Pide al usuario cuántas personas están en el grupo y muestra cuánto debe pagar cada uno.\n",
        "\n",
        "Asegúrate de redondear el resultado a 2 decimales.\n",
        "\n",
        "* Pista: Usa la funcion round()"
      ],
      "metadata": {
        "id": "5NpbbGR_rvNH"
      }
    },
    {
      "cell_type": "code",
      "source": [
        "## INICIO DE CÓDIGO\n",
        "# Program asks for a valid number of participants in a group (positive integer)\n",
        "# and calcualtes how much each person must contribute to the total bill.\n",
        "value = 250\n",
        "while (1):\n",
        "  try:\n",
        "    n = int(input('Enter number of people in the group: '))\n",
        "    if n>0:\n",
        "      print(f'Each must pay S/{value/n:.2f}')\n",
        "      break\n",
        "    else:\n",
        "      raise ValueError\n",
        "  except ValueError:\n",
        "    print('Invalid number.')\n",
        "## FIN DE CÓDIGO"
      ],
      "metadata": {
        "id": "uMxuVCUVrvj6",
        "colab": {
          "base_uri": "https://localhost:8080/"
        },
        "outputId": "f586b10b-6c73-4cce-d28a-be52b9e4248b"
      },
      "execution_count": 74,
      "outputs": [
        {
          "output_type": "stream",
          "name": "stdout",
          "text": [
            "Enter number of people in the group: 6\n",
            "Each must pay S/41.67\n"
          ]
        }
      ]
    },
    {
      "cell_type": "markdown",
      "source": [
        "**Ejercicio 10: Calendario de clases**\n",
        "\n",
        "Pide cuántas horas se estudia en promedio por día, y cuántos días tiene el mes.\n",
        "\n",
        "Calcula cuántas horas de estudio habrá ese mes."
      ],
      "metadata": {
        "id": "p3PYp0l4pxuI"
      }
    },
    {
      "cell_type": "code",
      "source": [
        "## INICIO DE CÓDIGO\n",
        "# Program asks for valid inputs of average study hours per day (float between\n",
        "# 0 and 24) and days (in the range between 28 and 31) and calculates total num-\n",
        "# ber of study hours in the month.\n",
        "while(1):\n",
        "  try:\n",
        "    hours = float(input('Enter average study hours per day: '))\n",
        "    days = int(input('Enter number of days in the month: '))\n",
        "    if (0<hours<24 and (days in range(28,32))):\n",
        "      print(f'Total study hours in the month = {days*hours}')\n",
        "      break\n",
        "    else:\n",
        "      raise ValueError\n",
        "  except ValueError:\n",
        "    print('One or both of the entries is invalid.')\n",
        "## FIN DE CÓDIGO"
      ],
      "metadata": {
        "id": "y1bXFffhrxk2",
        "colab": {
          "base_uri": "https://localhost:8080/"
        },
        "outputId": "fb405981-d385-44cc-a1a2-e72cf69a3937"
      },
      "execution_count": 77,
      "outputs": [
        {
          "output_type": "stream",
          "name": "stdout",
          "text": [
            "Enter average study hours per day: breal\n",
            "One or both of the entries is invalid.\n",
            "Enter average study hours per day: 1\n",
            "Enter number of days in the month: aa\n",
            "One or both of the entries is invalid.\n",
            "Enter average study hours per day: -5\n",
            "Enter number of days in the month: 2\n",
            "One or both of the entries is invalid.\n",
            "Enter average study hours per day: 5.5\n",
            "Enter number of days in the month: 30\n",
            "Total study hours in the month = 165.0\n"
          ]
        }
      ]
    },
    {
      "cell_type": "markdown",
      "source": [
        "---\n",
        "\n",
        "# Gracias por completar este laboratorio!\n",
        "\n",
        "---\n"
      ],
      "metadata": {
        "id": "8_ZocYoOrx3Z"
      }
    }
  ]
}