{
  "nbformat": 4,
  "nbformat_minor": 0,
  "metadata": {
    "colab": {
      "provenance": [],
      "include_colab_link": true
    },
    "kernelspec": {
      "name": "python3",
      "display_name": "Python 3"
    },
    "language_info": {
      "name": "python"
    }
  },
  "cells": [
    {
      "cell_type": "markdown",
      "metadata": {
        "id": "view-in-github",
        "colab_type": "text"
      },
      "source": [
        "<a href=\"https://colab.research.google.com/github/FernandoIGD12/UTEC_programming101/blob/main/modulo3_archivos_modulos/examen_programaci_n_101_m_dulo_3.ipynb\" target=\"_parent\"><img src=\"https://colab.research.google.com/assets/colab-badge.svg\" alt=\"Open In Colab\"/></a>"
      ]
    },
    {
      "cell_type": "markdown",
      "source": [
        "<img src=\"https://posgrado.utec.edu.pe/sites/default/files/2023-08/Testimonial-home-2.jpg\" alt=\"HTML5 Icon\" width=\"900\" height=\"250\" >"
      ],
      "metadata": {
        "id": "F0pagrVwedlT"
      }
    },
    {
      "cell_type": "markdown",
      "source": [
        "#**Examen Programación 101 – Módulo 3**"
      ],
      "metadata": {
        "id": "n0QIu7WQMANP"
      }
    },
    {
      "cell_type": "markdown",
      "source": [
        "**Contexto:**\n",
        "\n",
        "Estás colaborando con un equipo de analistas que trabaja en el diseño de herramientas básicas para preparar, limpiar y analizar datos antes de que sean utilizados por científicos de datos. Estas herramientas deben ejecutarse en entornos controlados, sin acceso a librerías externas y con requisitos mínimos de procesamiento.\n",
        "\n",
        "Cada ejercicio del examen representa uno de los desafíos que debes resolver como parte del equipo de soporte analítico: desde calcular estadísticas básicas, limpiar entradas de texto, hasta realizar predicciones sencillas con modelos lineales simulados."
      ],
      "metadata": {
        "id": "miMQKZv6MHrC"
      }
    },
    {
      "cell_type": "markdown",
      "source": [
        "\n",
        "\n",
        "**Nombre y Apellido:**\n",
        "\n",
        "---"
      ],
      "metadata": {
        "id": "ivo0N7RXM0VM"
      }
    },
    {
      "cell_type": "markdown",
      "source": [
        "Duración: 45 minutos\n"
      ],
      "metadata": {
        "id": "5UN_MQy1M76N"
      }
    },
    {
      "cell_type": "markdown",
      "source": [
        "**Instrucciones**\n",
        "\n",
        "Puedes utilizar:\n",
        "\n",
        "- Definición de funciones (def)\n",
        "\n",
        "- Creación de clases (class)\n",
        "\n",
        "- Listas, strings, diccionarios, operadores, condicionales, bucles\n",
        "\n",
        "- Funciones integradas como sum(), len(), max(), min(), sorted()\n",
        "\n",
        "- No uses pandas, numpy, matplotlib, ni lectura de archivos.\n",
        "\n",
        "Se evaluará no solo la respuesta correcta, sino también la claridad del código, las buenas prácticas (nombres descriptivos, comentarios si es necesario), el uso adecuado de estructuras de datos y la lógica general."
      ],
      "metadata": {
        "id": "JXUtBQpVM_Da"
      }
    },
    {
      "cell_type": "markdown",
      "source": [
        "**Pregunta 1 – Estadística simple**"
      ],
      "metadata": {
        "id": "EpERA8PAN-wz"
      }
    },
    {
      "cell_type": "markdown",
      "source": [
        "Dado el siguiente conjunto de datos:\n",
        "```\n",
        "valores = [12, 17, 15, 21, 17, 18, 15, 19, 21, 17]\n",
        "```\n",
        "Escribe una función resumen_estadistico(lista) que retorne un diccionario con las siguientes claves:\n",
        "\n",
        "- \"promedio\": promedio de los valores\n",
        "\n",
        "- \"min\": valor mínimo\n",
        "\n",
        "- \"max\": valor máximo\n",
        "\n",
        "- \"moda\": valor que más veces se repite en la lista"
      ],
      "metadata": {
        "id": "guv8XWUSOBdx"
      }
    },
    {
      "cell_type": "code",
      "execution_count": 5,
      "metadata": {
        "id": "_R4-sqZ1LhZL"
      },
      "outputs": [],
      "source": [
        "# Your code starts here\n",
        "def resumen_estadistico(lista):\n",
        "  ''' Funcion que devuelve un diccionario con el resumen estdístico\n",
        "\n",
        "  Args:\n",
        "    lista: lista de números\n",
        "\n",
        "  Returns:\n",
        "    diccionario con las claves: promedio, min, max, moda\n",
        "  '''\n",
        "  promedio = sum(lista) / len(lista)\n",
        "  valor_min = min(lista)\n",
        "  valor_max = max(lista)\n",
        "  moda = max(set(lista), key=lista.count)\n",
        "  return {\"promedio\": promedio, \"min\": valor_min, \"max\": valor_max, \"moda\": moda}\n",
        "# Your code ends here"
      ]
    },
    {
      "cell_type": "code",
      "source": [
        "valores = [12, 17, 15, 21, 17, 18, 15, 19, 21, 17]\n",
        "print(resumen_estadistico(valores))"
      ],
      "metadata": {
        "id": "QaR6eZIyfvTl",
        "outputId": "efbaa289-f894-4a11-dcf1-f25ccf2d85a1",
        "colab": {
          "base_uri": "https://localhost:8080/"
        }
      },
      "execution_count": 6,
      "outputs": [
        {
          "output_type": "stream",
          "name": "stdout",
          "text": [
            "{'promedio': 17.2, 'min': 12, 'max': 21, 'moda': 17}\n"
          ]
        }
      ]
    },
    {
      "cell_type": "markdown",
      "source": [
        "**Pregunta 2 – Limpieza de texto**"
      ],
      "metadata": {
        "id": "3rV2t5cXOOve"
      }
    },
    {
      "cell_type": "markdown",
      "source": [
        "Tienes la siguiente lista con nombres ingresados de forma inconsistente:\n",
        "```\n",
        "nombres = [\" ana \", \"LUIS\", \"cAmila \", \"JORGE\", \" sofiA\"]\n",
        "```\n",
        "Crea una función normalizar_nombres(lista) que:\n",
        "\n",
        "- Elimine espacios adicionales al inicio o final de cada nombre\n",
        "\n",
        "- Convierta todos los nombres a formato título (por ejemplo: \"Camila\")\n",
        "\n",
        "Devuelve una nueva lista con los nombres normalizados."
      ],
      "metadata": {
        "id": "TLFj-jI-OYwu"
      }
    },
    {
      "cell_type": "code",
      "source": [
        "# Your code starts here\n",
        "def normalizar_nombres(lista):\n",
        "  '''Funcion que elimina espacios adicionales al inicio o final de cada nombre\n",
        "     y convierte todos los nombres a formato título (por ejemplo: \"Camila\")\n",
        "\n",
        "  Args:\n",
        "    lista: lista de nombres\n",
        "\n",
        "  Returns:\n",
        "    lista de nombres normalizados\n",
        "  '''\n",
        "  return [nombre.strip().title() for nombre in lista]\n",
        "# Your code ends here"
      ],
      "metadata": {
        "id": "Yeuwf3fWOftV"
      },
      "execution_count": 8,
      "outputs": []
    },
    {
      "cell_type": "code",
      "source": [
        "print(normalizar_nombres([\" ana \", \"LUIS\", \"cAmila \", \"JORGE\", \" sofiA\"]))"
      ],
      "metadata": {
        "id": "jAQz8gQsgc53",
        "outputId": "52d6b34e-36f2-4d59-b038-2a1e112df18a",
        "colab": {
          "base_uri": "https://localhost:8080/"
        }
      },
      "execution_count": 9,
      "outputs": [
        {
          "output_type": "stream",
          "name": "stdout",
          "text": [
            "['Ana', 'Luis', 'Camila', 'Jorge', 'Sofia']\n"
          ]
        }
      ]
    },
    {
      "cell_type": "markdown",
      "source": [
        "**Pregunta 3 – Clasificador por edad**"
      ],
      "metadata": {
        "id": "qzum0ADEOk-a"
      }
    },
    {
      "cell_type": "markdown",
      "source": [
        "Crea una clase ClasificadorEdad con un atributo edad.\n",
        "La clase debe tener un método:\n",
        "\n",
        "clasificar() -> str\n",
        "Que devuelva según la edad:\n",
        "\n",
        "- \"Niño\" si es menor de 13\n",
        "\n",
        "- \"Adolescente\" si tiene entre 13 y 17 años\n",
        "\n",
        "- \"Adulto\" si tiene entre 18 y 59 años\n",
        "\n",
        "- \"Adulto mayor\" si tiene 60 o más"
      ],
      "metadata": {
        "id": "xS7revZCOoZ1"
      }
    },
    {
      "cell_type": "code",
      "source": [
        "# Your code starts here\n",
        "class ClasificadorEdad:\n",
        "  '''Clase que clasifica a una persona según su edad\n",
        "\n",
        "  Attributes:\n",
        "    edad: edad de la persona\n",
        "\n",
        "  '''\n",
        "  def __init__(self, edad):\n",
        "    ''' Inicializa el clasificador\n",
        "    Args:\n",
        "      edad: edad de la persona\n",
        "\n",
        "    Raises:\n",
        "      ValueError: si la edad es negativa\n",
        "    '''\n",
        "    if edad < 0:\n",
        "      raise ValueError(\"La edad no puede ser negativa\")\n",
        "    self.edad = edad\n",
        "\n",
        "  def clasificar(self):\n",
        "    ''' Devuelve la clasificación de la persona según su edad\n",
        "\n",
        "    Returns:\n",
        "      str: clasificación de la persona\n",
        "    '''\n",
        "    if self.edad < 13:\n",
        "      return \"Niño\"\n",
        "    elif 13<=self.edad<=17:\n",
        "      return \"Adolescente\"\n",
        "    elif 18<=self.edad<=59:\n",
        "      return 'Adulto'\n",
        "    elif self.edad>=60:\n",
        "      return 'Adulto mayor'\n",
        "\n",
        "# Your code ends here"
      ],
      "metadata": {
        "id": "TEedziL-Oosu"
      },
      "execution_count": 27,
      "outputs": []
    },
    {
      "cell_type": "code",
      "source": [
        "edad = ClasificadorEdad(0)\n",
        "edad.clasificar()"
      ],
      "metadata": {
        "id": "YzavRnyBh8oD",
        "outputId": "3f66e37f-1722-4eda-960c-f97a0b90a72d",
        "colab": {
          "base_uri": "https://localhost:8080/",
          "height": 35
        }
      },
      "execution_count": 29,
      "outputs": [
        {
          "output_type": "execute_result",
          "data": {
            "text/plain": [
              "'Niño'"
            ],
            "application/vnd.google.colaboratory.intrinsic+json": {
              "type": "string"
            }
          },
          "metadata": {},
          "execution_count": 29
        }
      ]
    },
    {
      "cell_type": "markdown",
      "source": [
        "**Pregunta 4 – Palabras clave en encuestas**"
      ],
      "metadata": {
        "id": "O7K1bCleO3du"
      }
    },
    {
      "cell_type": "markdown",
      "source": [
        "Tienes una lista con respuestas abiertas de una encuesta:\n",
        "```\n",
        "respuestas = [\n",
        "    \"Me gusta la visualización de datos\",\n",
        "    \"La estadística es clave\",\n",
        "    \"Aprender programación mejora la productividad\",\n",
        "    \"Los gráficos me ayudan a entender\"]\n",
        "```\n",
        "Crea una función contar_palabras_clave(respuestas: list, palabra: str) que:\n",
        "\n",
        "- Retorne cuántas frases contienen la palabra dada, sin importar mayúsculas o minúsculas.\n",
        "\n",
        "Ejemplo:\n",
        "contar_palabras_clave(respuestas, \"datos\") → 1\n",
        "\n"
      ],
      "metadata": {
        "id": "Y7kadRyfPBG_"
      }
    },
    {
      "cell_type": "code",
      "source": [
        "# Your code starts here\n",
        "def contar_palabras_clave(respuestas: list, palabra: str):\n",
        "  ''' Contador de palabras clave\n",
        "\n",
        "  Args:\n",
        "    respuestas: lista de respuestas\n",
        "    palabra: palabra a buscar\n",
        "\n",
        "  Returns:\n",
        "    int: número de respuestas que contienen la palabra clave\n",
        "  '''\n",
        "  contador = 0\n",
        "  for respuesta in respuestas:\n",
        "    if palabra.lower() in respuesta.lower():\n",
        "      contador += 1\n",
        "  return contador\n",
        "\n",
        "# Your code ends here"
      ],
      "metadata": {
        "id": "4WP3pEgvOuMd"
      },
      "execution_count": 30,
      "outputs": []
    },
    {
      "cell_type": "code",
      "source": [
        "respuestas = [\n",
        "    \"Me gusta la visualización de datos\",\n",
        "    \"La estadística es clave\",\n",
        "    \"Aprender programación mejora la productividad\",\n",
        "    \"Los gráficos me ayudan a entender\"]\n",
        "\n",
        "print(contar_palabras_clave(respuestas, \"datos\"))"
      ],
      "metadata": {
        "id": "EG4j-j8IhoPB",
        "outputId": "835813b2-af95-4040-ccb8-eb0b3d223a05",
        "colab": {
          "base_uri": "https://localhost:8080/"
        }
      },
      "execution_count": 31,
      "outputs": [
        {
          "output_type": "stream",
          "name": "stdout",
          "text": [
            "1\n"
          ]
        }
      ]
    },
    {
      "cell_type": "markdown",
      "source": [
        "**Pregunta 5 – Validación de códigos de experimento**"
      ],
      "metadata": {
        "id": "MdencFSGPmo1"
      }
    },
    {
      "cell_type": "markdown",
      "source": [
        "Tienes una lista con códigos de experimento ingresados por diferentes usuarios:\n",
        "\n",
        "```\n",
        "codigos = [\"EXP2023A\", \"EXP_23\", \"EXPERIMENTO_2023\", \"exp2023b\"]\n",
        "```\n",
        "\n",
        "Crea una función validar_codigos(lista) que retorne una nueva lista con los códigos válidos, donde:\n",
        "\n",
        "- Empiecen por \"EXP\" (en mayúsculas)\n",
        "\n",
        "- Tengan exactamente 8 caracteres"
      ],
      "metadata": {
        "id": "KBMve8sQPp8J"
      }
    },
    {
      "cell_type": "code",
      "source": [
        "# Your code starts here\n",
        "def validar_codigos(lista):\n",
        "  ''' Validación de codigos\n",
        "  Args:\n",
        "    lista: lista de códigos\n",
        "\n",
        "  Returns:\n",
        "    lista de códigos válidos\n",
        "  '''\n",
        "  return [codigo for codigo in lista if codigo.startswith('EXP') and len(codigo) == 8]\n",
        "\n",
        "# Your code ends here"
      ],
      "metadata": {
        "id": "SUaTp_yjO24X"
      },
      "execution_count": 32,
      "outputs": []
    },
    {
      "cell_type": "code",
      "source": [
        "codigos = [\"EXP2023A\", \"EXP_23\", \"EXPERIMENTO_2023\", \"exp2023b\"]\n",
        "print(validar_codigos(codigos))"
      ],
      "metadata": {
        "id": "SmM5YKnKi55p",
        "outputId": "b96cdf03-27a7-4c84-c848-8e93672360d9",
        "colab": {
          "base_uri": "https://localhost:8080/"
        }
      },
      "execution_count": 33,
      "outputs": [
        {
          "output_type": "stream",
          "name": "stdout",
          "text": [
            "['EXP2023A']\n"
          ]
        }
      ]
    },
    {
      "cell_type": "markdown",
      "source": [
        "**Pregunta 6 – Modelo lineal simple**"
      ],
      "metadata": {
        "id": "U3NjngoxPyv9"
      }
    },
    {
      "cell_type": "markdown",
      "source": [
        "Crea una clase ModeloLineal que simule un modelo de regresión con fórmula:\n",
        "```\n",
        "y = m * x + b\n",
        "```\n",
        "\n",
        "La clase debe tener:\n",
        "\n",
        "Atributos: m (pendiente), b (intercepto)\n",
        "\n",
        "\n",
        "Método predecir(x) que:\n",
        "\n",
        "- Si x es un número, devuelve la predicción correspondiente\n",
        "\n",
        "- Si x es una lista de números, devuelve una lista de predicciones\n",
        "\n",
        "\n",
        "Ejemplo:\n",
        "```\n",
        "modelo = ModeloLineal(2, 3)\n",
        "modelo.predecir([1, 2, 3])  #debe retornar [5, 7, 9]\n",
        "```"
      ],
      "metadata": {
        "id": "_N3vpCZkP1sr"
      }
    },
    {
      "cell_type": "code",
      "source": [
        "# Your code starts here\n",
        "class ModeloLineal:\n",
        "  ''' Clase que simula un modelo de regresión lineal\n",
        "\n",
        "  Attributes:\n",
        "    m: pendiente\n",
        "    b: intercepto\n",
        "  '''\n",
        "  def __init__(self, m, b):\n",
        "    ''' Inicializacion de la clase\n",
        "    Args:\n",
        "      m: pendiente\n",
        "      b: intercepto\n",
        "    '''\n",
        "    self.m = m\n",
        "    self.b = b\n",
        "\n",
        "  def predecir(self, x):\n",
        "    ''' Predecir el valor de la variable dependiente\n",
        "\n",
        "    Args:\n",
        "      x: variable independiente (número o lista de números)\n",
        "\n",
        "    Returns:\n",
        "      valor de la variable dependiente\n",
        "    '''\n",
        "    if isinstance(x, list):\n",
        "      return [self.m * xi + self.b for xi in x]\n",
        "    else:\n",
        "      return self.m * x + self.b\n",
        "\n",
        "# Your code ends here"
      ],
      "metadata": {
        "id": "18nXnIMEQhKS"
      },
      "execution_count": 34,
      "outputs": []
    },
    {
      "cell_type": "code",
      "source": [
        "modelo = ModeloLineal(2, 3)\n",
        "modelo.predecir([1, 2, 3])"
      ],
      "metadata": {
        "id": "dvMe0AmnkNEQ",
        "outputId": "fd0e7f6c-9b36-43f6-a6ed-66d7a93a1672",
        "colab": {
          "base_uri": "https://localhost:8080/"
        }
      },
      "execution_count": 35,
      "outputs": [
        {
          "output_type": "execute_result",
          "data": {
            "text/plain": [
              "[5, 7, 9]"
            ]
          },
          "metadata": {},
          "execution_count": 35
        }
      ]
    },
    {
      "cell_type": "markdown",
      "source": [
        "---\n",
        "\n",
        "### Gracias por completar este examen!\n",
        "\n",
        "---\n"
      ],
      "metadata": {
        "id": "LtljlM9cQkiT"
      }
    }
  ]
}