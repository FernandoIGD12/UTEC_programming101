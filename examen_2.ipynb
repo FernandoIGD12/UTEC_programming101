{
  "nbformat": 4,
  "nbformat_minor": 0,
  "metadata": {
    "colab": {
      "provenance": [],
      "authorship_tag": "ABX9TyN5h/lKakbCysy+S5MPeQTt",
      "include_colab_link": true
    },
    "kernelspec": {
      "name": "python3",
      "display_name": "Python 3"
    },
    "language_info": {
      "name": "python"
    }
  },
  "cells": [
    {
      "cell_type": "markdown",
      "metadata": {
        "id": "view-in-github",
        "colab_type": "text"
      },
      "source": [
        "<a href=\"https://colab.research.google.com/github/FernandoIGD12/UTEC_programming101/blob/main/examen_2.ipynb\" target=\"_parent\"><img src=\"https://colab.research.google.com/assets/colab-badge.svg\" alt=\"Open In Colab\"/></a>"
      ]
    },
    {
      "cell_type": "code",
      "execution_count": null,
      "metadata": {
        "id": "yc04sccRudxY"
      },
      "outputs": [],
      "source": []
    },
    {
      "cell_type": "code",
      "source": [
        "# Problema 1\n",
        "catalogo_popular = (\"Breaking Python\", \"Data Science 101\", \"Machine Love\", \"Debug Wars\")\n",
        "catalogo_lista = list(catalogo_popular)\n",
        "catalogo_lista.append(\"Neural Networks\") # grega una nueva serie: \"Neural Networks\"\n",
        "catalogo_lista[3]= \"AI Rebellion\" # Reemplaza \"Debug Wars\" por \"AI Rebellion\"\n",
        "catalogo_lista.sort() # Ordena la lista alfabéticamente\n",
        "print(catalogo_lista)"
      ],
      "metadata": {
        "colab": {
          "base_uri": "https://localhost:8080/"
        },
        "id": "sO6kiObBuqn2",
        "outputId": "ae19c59b-7948-4199-dfba-0e36e3493a3d"
      },
      "execution_count": 15,
      "outputs": [
        {
          "output_type": "stream",
          "name": "stdout",
          "text": [
            "['AI Rebellion', 'Breaking Python', 'Data Science 101', 'Machine Love', 'Neural Networks']\n"
          ]
        }
      ]
    },
    {
      "cell_type": "markdown",
      "source": [],
      "metadata": {
        "id": "jiOxVR9nuf2I"
      }
    },
    {
      "cell_type": "code",
      "source": [
        "#Problema 2\n",
        "generos = [\"Drama\", \"Comedia\", \"Acción\", \"Sci-Fi\", \"Documental\", \"Terror\", \"Romance\"]\n",
        "print(generos[2:5]) # Un slicing que obtenga los géneros del medio\n",
        "print(generos[0:3]) # Un slicing que obtenga los tres primeros géneros\n",
        "print(generos[::-1]) #géneros ordenados en orden inverso (usando slicing)\n"
      ],
      "metadata": {
        "colab": {
          "base_uri": "https://localhost:8080/"
        },
        "id": "AV4t9dcSwcfo",
        "outputId": "a63be7f9-b68d-4d1a-f1b8-4208333576c6"
      },
      "execution_count": 16,
      "outputs": [
        {
          "output_type": "stream",
          "name": "stdout",
          "text": [
            "['Acción', 'Sci-Fi', 'Documental']\n",
            "['Drama', 'Comedia', 'Acción']\n",
            "['Romance', 'Terror', 'Documental', 'Sci-Fi', 'Acción', 'Comedia', 'Drama']\n"
          ]
        }
      ]
    },
    {
      "cell_type": "code",
      "source": [
        "#Problema 3\n",
        "ratings = [4.5, 3.0, 5.0, 2.5, 4.0, 1.5]\n",
        "print([rating for rating in ratings if rating>3.5]) #  lista con solo los ratings mayores a 3.5\n",
        "print([20*x for x in ratings]) #lista con los ratings convertidos a una escala del 0 al 100\n",
        "print(['Alta' if rating>4 else 'Media' if 4>=rating>=3 else 'Baja' for rating in ratings]) #Una lista de strings que diga \"Alta\" si rating > 4, \"Media\" si entre 3 y 4, \"Baja\" si menor"
      ],
      "metadata": {
        "colab": {
          "base_uri": "https://localhost:8080/"
        },
        "id": "P-PkaH13yBq-",
        "outputId": "3ca9df97-bd62-4ada-b9bd-21de19e6049a"
      },
      "execution_count": 22,
      "outputs": [
        {
          "output_type": "stream",
          "name": "stdout",
          "text": [
            "[4.5, 5.0, 4.0]\n",
            "[90.0, 60.0, 100.0, 50.0, 80.0, 30.0]\n",
            "['Alta', 'Media', 'Alta', 'Baja', 'Media', 'Baja']\n"
          ]
        }
      ]
    },
    {
      "cell_type": "code",
      "source": [
        "#Problema 4\n",
        "historial = {\n",
        "  \"Breaking Python\": 3,\n",
        "  \"Machine Love\": 5,\n",
        "  \"Data Science 101\": 2\n",
        "}\n",
        "historial[\"Data Science 101\"]+=1 # Aumenta en 1 la cantidad de veces que vio \"Data Science 101\"\n",
        "historial[\"AI Rebellion\"]=1 # Añade la serie \"AI Rebellion\" con 1 visualización\n",
        "del historial[\"Machine Love\"] # Elimina \"Machine Love\" del historial\n",
        "print([x for x in historial if historial[x]>2])# Muestra todas las series que el usuario vio más de 2 veces\n",
        "print(historial)\n"
      ],
      "metadata": {
        "colab": {
          "base_uri": "https://localhost:8080/"
        },
        "id": "9pPPmL1H0Y92",
        "outputId": "4585894e-2342-473c-f22b-338821a768f7"
      },
      "execution_count": 25,
      "outputs": [
        {
          "output_type": "stream",
          "name": "stdout",
          "text": [
            "['Breaking Python', 'Data Science 101']\n",
            "{'Breaking Python': 3, 'Data Science 101': 3, 'AI Rebellion': 1}\n"
          ]
        }
      ]
    },
    {
      "cell_type": "code",
      "source": [
        "#Problema 5\n",
        "usuarios_serie_A = {\"ana\", \"luis\", \"pedro\", \"maria\"}\n",
        "usuarios_serie_B = {\"maria\", \"pedro\", \"carla\", \"lucas\"}\n",
        "\n",
        "print(usuarios_serie_A.intersection(usuarios_serie_B)) # usuarios que vieron ambas series\n",
        "print(usuarios_serie_A.difference(usuarios_serie_B)) # usuarios vieron solo la serie A\n",
        "print(usuarios_serie_A.union(usuarios_serie_B)) # usuarios que vieron al menos una de las dos"
      ],
      "metadata": {
        "colab": {
          "base_uri": "https://localhost:8080/"
        },
        "id": "yGLelgtq1qxY",
        "outputId": "7d01a6c5-f327-4e1e-f429-39e37f7be5fe"
      },
      "execution_count": 26,
      "outputs": [
        {
          "output_type": "stream",
          "name": "stdout",
          "text": [
            "{'pedro', 'maria'}\n",
            "{'ana', 'luis'}\n",
            "{'luis', 'pedro', 'ana', 'lucas', 'carla', 'maria'}\n"
          ]
        }
      ]
    },
    {
      "cell_type": "code",
      "source": [
        "# Problema 6\n",
        "recomendaciones = {\n",
        "  \"ana\": {\"Machine Love\", \"AI Rebellion\"},\n",
        "  \"luis\": {\"AI Rebellion\", \"Debug Wars\"},\n",
        "  \"pedro\": {\"Debug Wars\", \"Machine Love\"}\n",
        "}\n",
        "print(set.union(*recomendaciones.values()))# Las series que fueron recomendadas a todos\n",
        "#print() #Las series recomendadas a al menos dos personas\n",
        "\n"
      ],
      "metadata": {
        "colab": {
          "base_uri": "https://localhost:8080/"
        },
        "id": "IZ1ovOwP2VF0",
        "outputId": "abf77d7c-71e3-45ec-a0ec-6c4aa8d57b22"
      },
      "execution_count": 35,
      "outputs": [
        {
          "output_type": "stream",
          "name": "stdout",
          "text": [
            "{'Machine Love', 'AI Rebellion', 'Debug Wars'}\n"
          ]
        }
      ]
    },
    {
      "cell_type": "code",
      "source": [
        "#Problema 7\n",
        "puntuaciones = [(\"Breaking Python\", 4.0), (\"AI Rebellion\", 5.0), (\"Debug Wars\", 2.0)]\n",
        "puntuaciones_dict = dict(puntuaciones)\n",
        "print(puntuaciones_dict)\n",
        "serie = puntuaciones_dict.keys()\n",
        "rating = ['Excelente' if x>=4.5 else 'Buena' if 4.5>x>=3 else 'Regular' for x in puntuaciones_dict.values()]\n",
        "print(dict(zip(serie, rating)))"
      ],
      "metadata": {
        "colab": {
          "base_uri": "https://localhost:8080/"
        },
        "id": "zO8F1x2a4ecK",
        "outputId": "8788f9bc-4d1d-4029-e20c-e300192de2da"
      },
      "execution_count": 45,
      "outputs": [
        {
          "output_type": "stream",
          "name": "stdout",
          "text": [
            "{'Breaking Python': 4.0, 'AI Rebellion': 5.0, 'Debug Wars': 2.0}\n",
            "{'Breaking Python': 'Buena', 'AI Rebellion': 'Excelente', 'Debug Wars': 'Regular'}\n"
          ]
        }
      ]
    },
    {
      "cell_type": "code",
      "source": [
        "#Problema 8\n",
        "gustos = {\n",
        "  \"ana\": [\"Sci-Fi\", \"Drama\", \"Documental\"],\n",
        "  \"luis\": [\"Comedia\", \"Acción\", \"Sci-Fi\"],\n",
        "  \"pedro\": [\"Drama\", \"Sci-Fi\", \"Romance\"]\n",
        "}\n",
        "print([generos[0] for generos in gustos.values()]) # lista con el primer género favorito de cada usuario\n",
        "generos_unicos = set() # lista con todos los géneros mencionados sin repeticiones\n",
        "for genero in gustos.values():\n",
        "  generos_unicos.update(genero)\n",
        "print(generos_unicos)\n",
        "\n",
        ""
      ],
      "metadata": {
        "colab": {
          "base_uri": "https://localhost:8080/"
        },
        "id": "pstMSMfl6vLb",
        "outputId": "ff16ddb0-f0c4-4009-e531-b91b96f9cf75"
      },
      "execution_count": 50,
      "outputs": [
        {
          "output_type": "stream",
          "name": "stdout",
          "text": [
            "['Sci-Fi', 'Comedia', 'Drama']\n",
            "{'Documental', 'Drama', 'Acción', 'Comedia', 'Romance', 'Sci-Fi'}\n"
          ]
        }
      ]
    },
    {
      "cell_type": "code",
      "source": [
        "#Problema 9\n",
        "votos = [(\"Breaking Python\", 5), (\"AI Rebellion\", 4), (\"Breaking Python\", 4), (\"Debug Wars\", 3), (\"AI Rebellion\", 5)]\n",
        "my_dict = dict()\n",
        "value = list()\n",
        "for item in votos:\n",
        "  if item[0] not in my_dict:\n",
        "    my_dict[item[0]]=[]\n",
        "  my_dict[item[0]].append(item[1])\n",
        "print(my_dict)\n",
        "for serie, value in my_dict.items():\n",
        "  promedio = sum(value)/len(value)\n",
        "  print(f'Promedio {serie}: {promedio}') # promedio de rating de cada serie"
      ],
      "metadata": {
        "colab": {
          "base_uri": "https://localhost:8080/"
        },
        "id": "Zt-9zJi69qr-",
        "outputId": "823cea8d-6413-4af3-964d-56d7b18cddf7"
      },
      "execution_count": 58,
      "outputs": [
        {
          "output_type": "stream",
          "name": "stdout",
          "text": [
            "{'Breaking Python': [5, 4], 'AI Rebellion': [4, 5], 'Debug Wars': [3]}\n",
            "Promedio Breaking Python: 4.5\n",
            "Promedio AI Rebellion: 4.5\n",
            "Promedio Debug Wars: 3.0\n"
          ]
        }
      ]
    },
    {
      "cell_type": "markdown",
      "source": [],
      "metadata": {
        "id": "_IMWkKYbuiJ_"
      }
    },
    {
      "cell_type": "markdown",
      "source": [],
      "metadata": {
        "id": "1fHUwXbGue5D"
      }
    }
  ]
}